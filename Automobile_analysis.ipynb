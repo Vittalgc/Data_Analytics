{
 "cells": [
  {
   "cell_type": "code",
   "execution_count": 119,
   "id": "ce77edcd-f8cf-4070-991c-64baa3bfeace",
   "metadata": {
    "tags": []
   },
   "outputs": [],
   "source": [
    "import pandas as pd"
   ]
  },
  {
   "cell_type": "code",
   "execution_count": 72,
   "id": "0bdc5a51-53ed-48ed-8415-ddbd99b09ac1",
   "metadata": {
    "tags": []
   },
   "outputs": [],
   "source": [
    "automobile_data = pd.read_csv(\"Automobile_data.csv\", index_col=0)"
   ]
  },
  {
   "cell_type": "markdown",
   "id": "e4d6e091-1701-4bac-ba23-338a455a4869",
   "metadata": {},
   "source": [
    "### First 7 rows"
   ]
  },
  {
   "cell_type": "code",
   "execution_count": 73,
   "id": "26cf2548-8102-4a55-98f2-8f25c774d312",
   "metadata": {
    "tags": []
   },
   "outputs": [
    {
     "data": {
      "text/html": [
       "<div>\n",
       "<style scoped>\n",
       "    .dataframe tbody tr th:only-of-type {\n",
       "        vertical-align: middle;\n",
       "    }\n",
       "\n",
       "    .dataframe tbody tr th {\n",
       "        vertical-align: top;\n",
       "    }\n",
       "\n",
       "    .dataframe thead th {\n",
       "        text-align: right;\n",
       "    }\n",
       "</style>\n",
       "<table border=\"1\" class=\"dataframe\">\n",
       "  <thead>\n",
       "    <tr style=\"text-align: right;\">\n",
       "      <th></th>\n",
       "      <th>company</th>\n",
       "      <th>body-style</th>\n",
       "      <th>wheel-base</th>\n",
       "      <th>length</th>\n",
       "      <th>engine-type</th>\n",
       "      <th>num-of-cylinders</th>\n",
       "      <th>horsepower</th>\n",
       "      <th>average-mileage</th>\n",
       "      <th>price</th>\n",
       "    </tr>\n",
       "    <tr>\n",
       "      <th>index</th>\n",
       "      <th></th>\n",
       "      <th></th>\n",
       "      <th></th>\n",
       "      <th></th>\n",
       "      <th></th>\n",
       "      <th></th>\n",
       "      <th></th>\n",
       "      <th></th>\n",
       "      <th></th>\n",
       "    </tr>\n",
       "  </thead>\n",
       "  <tbody>\n",
       "    <tr>\n",
       "      <th>0</th>\n",
       "      <td>alfa-romero</td>\n",
       "      <td>convertible</td>\n",
       "      <td>88.6</td>\n",
       "      <td>168.8</td>\n",
       "      <td>dohc</td>\n",
       "      <td>four</td>\n",
       "      <td>111</td>\n",
       "      <td>21</td>\n",
       "      <td>13495.0</td>\n",
       "    </tr>\n",
       "    <tr>\n",
       "      <th>1</th>\n",
       "      <td>alfa-romero</td>\n",
       "      <td>convertible</td>\n",
       "      <td>88.6</td>\n",
       "      <td>168.8</td>\n",
       "      <td>dohc</td>\n",
       "      <td>four</td>\n",
       "      <td>111</td>\n",
       "      <td>21</td>\n",
       "      <td>16500.0</td>\n",
       "    </tr>\n",
       "    <tr>\n",
       "      <th>2</th>\n",
       "      <td>alfa-romero</td>\n",
       "      <td>hatchback</td>\n",
       "      <td>94.5</td>\n",
       "      <td>171.2</td>\n",
       "      <td>ohcv</td>\n",
       "      <td>six</td>\n",
       "      <td>154</td>\n",
       "      <td>19</td>\n",
       "      <td>16500.0</td>\n",
       "    </tr>\n",
       "    <tr>\n",
       "      <th>3</th>\n",
       "      <td>audi</td>\n",
       "      <td>sedan</td>\n",
       "      <td>99.8</td>\n",
       "      <td>176.6</td>\n",
       "      <td>ohc</td>\n",
       "      <td>four</td>\n",
       "      <td>102</td>\n",
       "      <td>24</td>\n",
       "      <td>13950.0</td>\n",
       "    </tr>\n",
       "    <tr>\n",
       "      <th>4</th>\n",
       "      <td>audi</td>\n",
       "      <td>sedan</td>\n",
       "      <td>99.4</td>\n",
       "      <td>176.6</td>\n",
       "      <td>ohc</td>\n",
       "      <td>five</td>\n",
       "      <td>115</td>\n",
       "      <td>18</td>\n",
       "      <td>17450.0</td>\n",
       "    </tr>\n",
       "    <tr>\n",
       "      <th>5</th>\n",
       "      <td>audi</td>\n",
       "      <td>sedan</td>\n",
       "      <td>99.8</td>\n",
       "      <td>177.3</td>\n",
       "      <td>ohc</td>\n",
       "      <td>five</td>\n",
       "      <td>110</td>\n",
       "      <td>19</td>\n",
       "      <td>15250.0</td>\n",
       "    </tr>\n",
       "    <tr>\n",
       "      <th>6</th>\n",
       "      <td>audi</td>\n",
       "      <td>wagon</td>\n",
       "      <td>105.8</td>\n",
       "      <td>192.7</td>\n",
       "      <td>ohc</td>\n",
       "      <td>five</td>\n",
       "      <td>110</td>\n",
       "      <td>19</td>\n",
       "      <td>18920.0</td>\n",
       "    </tr>\n",
       "  </tbody>\n",
       "</table>\n",
       "</div>"
      ],
      "text/plain": [
       "           company   body-style  wheel-base  length engine-type  \\\n",
       "index                                                             \n",
       "0      alfa-romero  convertible        88.6   168.8        dohc   \n",
       "1      alfa-romero  convertible        88.6   168.8        dohc   \n",
       "2      alfa-romero    hatchback        94.5   171.2        ohcv   \n",
       "3             audi        sedan        99.8   176.6         ohc   \n",
       "4             audi        sedan        99.4   176.6         ohc   \n",
       "5             audi        sedan        99.8   177.3         ohc   \n",
       "6             audi        wagon       105.8   192.7         ohc   \n",
       "\n",
       "      num-of-cylinders  horsepower  average-mileage    price  \n",
       "index                                                         \n",
       "0                 four         111               21  13495.0  \n",
       "1                 four         111               21  16500.0  \n",
       "2                  six         154               19  16500.0  \n",
       "3                 four         102               24  13950.0  \n",
       "4                 five         115               18  17450.0  \n",
       "5                 five         110               19  15250.0  \n",
       "6                 five         110               19  18920.0  "
      ]
     },
     "execution_count": 73,
     "metadata": {},
     "output_type": "execute_result"
    }
   ],
   "source": [
    "automobile_data.head(7)"
   ]
  },
  {
   "cell_type": "markdown",
   "id": "6885c212-992e-4aea-bce1-4688ee93bb54",
   "metadata": {},
   "source": [
    "### Last 7 rows"
   ]
  },
  {
   "cell_type": "code",
   "execution_count": 74,
   "id": "d2cccdcf-5a06-4242-9bc9-7f7917f177b7",
   "metadata": {
    "tags": []
   },
   "outputs": [
    {
     "data": {
      "text/html": [
       "<div>\n",
       "<style scoped>\n",
       "    .dataframe tbody tr th:only-of-type {\n",
       "        vertical-align: middle;\n",
       "    }\n",
       "\n",
       "    .dataframe tbody tr th {\n",
       "        vertical-align: top;\n",
       "    }\n",
       "\n",
       "    .dataframe thead th {\n",
       "        text-align: right;\n",
       "    }\n",
       "</style>\n",
       "<table border=\"1\" class=\"dataframe\">\n",
       "  <thead>\n",
       "    <tr style=\"text-align: right;\">\n",
       "      <th></th>\n",
       "      <th>company</th>\n",
       "      <th>body-style</th>\n",
       "      <th>wheel-base</th>\n",
       "      <th>length</th>\n",
       "      <th>engine-type</th>\n",
       "      <th>num-of-cylinders</th>\n",
       "      <th>horsepower</th>\n",
       "      <th>average-mileage</th>\n",
       "      <th>price</th>\n",
       "    </tr>\n",
       "    <tr>\n",
       "      <th>index</th>\n",
       "      <th></th>\n",
       "      <th></th>\n",
       "      <th></th>\n",
       "      <th></th>\n",
       "      <th></th>\n",
       "      <th></th>\n",
       "      <th></th>\n",
       "      <th></th>\n",
       "      <th></th>\n",
       "    </tr>\n",
       "  </thead>\n",
       "  <tbody>\n",
       "    <tr>\n",
       "      <th>79</th>\n",
       "      <td>toyota</td>\n",
       "      <td>wagon</td>\n",
       "      <td>104.5</td>\n",
       "      <td>187.8</td>\n",
       "      <td>dohc</td>\n",
       "      <td>six</td>\n",
       "      <td>156</td>\n",
       "      <td>19</td>\n",
       "      <td>15750.0</td>\n",
       "    </tr>\n",
       "    <tr>\n",
       "      <th>80</th>\n",
       "      <td>volkswagen</td>\n",
       "      <td>sedan</td>\n",
       "      <td>97.3</td>\n",
       "      <td>171.7</td>\n",
       "      <td>ohc</td>\n",
       "      <td>four</td>\n",
       "      <td>52</td>\n",
       "      <td>37</td>\n",
       "      <td>7775.0</td>\n",
       "    </tr>\n",
       "    <tr>\n",
       "      <th>81</th>\n",
       "      <td>volkswagen</td>\n",
       "      <td>sedan</td>\n",
       "      <td>97.3</td>\n",
       "      <td>171.7</td>\n",
       "      <td>ohc</td>\n",
       "      <td>four</td>\n",
       "      <td>85</td>\n",
       "      <td>27</td>\n",
       "      <td>7975.0</td>\n",
       "    </tr>\n",
       "    <tr>\n",
       "      <th>82</th>\n",
       "      <td>volkswagen</td>\n",
       "      <td>sedan</td>\n",
       "      <td>97.3</td>\n",
       "      <td>171.7</td>\n",
       "      <td>ohc</td>\n",
       "      <td>four</td>\n",
       "      <td>52</td>\n",
       "      <td>37</td>\n",
       "      <td>7995.0</td>\n",
       "    </tr>\n",
       "    <tr>\n",
       "      <th>86</th>\n",
       "      <td>volkswagen</td>\n",
       "      <td>sedan</td>\n",
       "      <td>97.3</td>\n",
       "      <td>171.7</td>\n",
       "      <td>ohc</td>\n",
       "      <td>four</td>\n",
       "      <td>100</td>\n",
       "      <td>26</td>\n",
       "      <td>9995.0</td>\n",
       "    </tr>\n",
       "    <tr>\n",
       "      <th>87</th>\n",
       "      <td>volvo</td>\n",
       "      <td>sedan</td>\n",
       "      <td>104.3</td>\n",
       "      <td>188.8</td>\n",
       "      <td>ohc</td>\n",
       "      <td>four</td>\n",
       "      <td>114</td>\n",
       "      <td>23</td>\n",
       "      <td>12940.0</td>\n",
       "    </tr>\n",
       "    <tr>\n",
       "      <th>88</th>\n",
       "      <td>volvo</td>\n",
       "      <td>wagon</td>\n",
       "      <td>104.3</td>\n",
       "      <td>188.8</td>\n",
       "      <td>ohc</td>\n",
       "      <td>four</td>\n",
       "      <td>114</td>\n",
       "      <td>23</td>\n",
       "      <td>13415.0</td>\n",
       "    </tr>\n",
       "  </tbody>\n",
       "</table>\n",
       "</div>"
      ],
      "text/plain": [
       "          company body-style  wheel-base  length engine-type num-of-cylinders  \\\n",
       "index                                                                           \n",
       "79         toyota      wagon       104.5   187.8        dohc              six   \n",
       "80     volkswagen      sedan        97.3   171.7         ohc             four   \n",
       "81     volkswagen      sedan        97.3   171.7         ohc             four   \n",
       "82     volkswagen      sedan        97.3   171.7         ohc             four   \n",
       "86     volkswagen      sedan        97.3   171.7         ohc             four   \n",
       "87          volvo      sedan       104.3   188.8         ohc             four   \n",
       "88          volvo      wagon       104.3   188.8         ohc             four   \n",
       "\n",
       "       horsepower  average-mileage    price  \n",
       "index                                        \n",
       "79            156               19  15750.0  \n",
       "80             52               37   7775.0  \n",
       "81             85               27   7975.0  \n",
       "82             52               37   7995.0  \n",
       "86            100               26   9995.0  \n",
       "87            114               23  12940.0  \n",
       "88            114               23  13415.0  "
      ]
     },
     "execution_count": 74,
     "metadata": {},
     "output_type": "execute_result"
    }
   ],
   "source": [
    "automobile_data.tail(7)"
   ]
  },
  {
   "cell_type": "markdown",
   "id": "1d9fe24c-9dc2-4f9c-97dc-a40c62857c81",
   "metadata": {
    "tags": []
   },
   "source": [
    "### Cleaning the Data"
   ]
  },
  {
   "cell_type": "code",
   "execution_count": 75,
   "id": "409cc1be-529f-4efb-8765-c36f7c6d6774",
   "metadata": {
    "tags": []
   },
   "outputs": [
    {
     "data": {
      "text/plain": [
       "(61, 9)"
      ]
     },
     "execution_count": 75,
     "metadata": {},
     "output_type": "execute_result"
    }
   ],
   "source": [
    "automobile_data.shape"
   ]
  },
  {
   "cell_type": "code",
   "execution_count": 76,
   "id": "2a3533b8-0e90-45bd-9779-da61e2be86f9",
   "metadata": {
    "tags": []
   },
   "outputs": [
    {
     "name": "stdout",
     "output_type": "stream",
     "text": [
      "<class 'pandas.core.frame.DataFrame'>\n",
      "Int64Index: 61 entries, 0 to 88\n",
      "Data columns (total 9 columns):\n",
      " #   Column            Non-Null Count  Dtype  \n",
      "---  ------            --------------  -----  \n",
      " 0   company           61 non-null     object \n",
      " 1   body-style        61 non-null     object \n",
      " 2   wheel-base        61 non-null     float64\n",
      " 3   length            61 non-null     float64\n",
      " 4   engine-type       61 non-null     object \n",
      " 5   num-of-cylinders  61 non-null     object \n",
      " 6   horsepower        61 non-null     int64  \n",
      " 7   average-mileage   61 non-null     int64  \n",
      " 8   price             58 non-null     float64\n",
      "dtypes: float64(3), int64(2), object(4)\n",
      "memory usage: 4.8+ KB\n"
     ]
    }
   ],
   "source": [
    "automobile_data.info()"
   ]
  },
  {
   "cell_type": "markdown",
   "id": "d10b1dde-feb4-49ea-a4a6-fa31fc6ea816",
   "metadata": {},
   "source": [
    "We can see that of all the attributes, only the 'price' column has missing values."
   ]
  },
  {
   "cell_type": "code",
   "execution_count": 77,
   "id": "c9449ebb-585d-4171-bbaa-c3b183c374c9",
   "metadata": {
    "tags": []
   },
   "outputs": [
    {
     "data": {
      "text/html": [
       "<div>\n",
       "<style scoped>\n",
       "    .dataframe tbody tr th:only-of-type {\n",
       "        vertical-align: middle;\n",
       "    }\n",
       "\n",
       "    .dataframe tbody tr th {\n",
       "        vertical-align: top;\n",
       "    }\n",
       "\n",
       "    .dataframe thead th {\n",
       "        text-align: right;\n",
       "    }\n",
       "</style>\n",
       "<table border=\"1\" class=\"dataframe\">\n",
       "  <thead>\n",
       "    <tr style=\"text-align: right;\">\n",
       "      <th></th>\n",
       "      <th>company</th>\n",
       "      <th>body-style</th>\n",
       "      <th>engine-type</th>\n",
       "      <th>num-of-cylinders</th>\n",
       "    </tr>\n",
       "  </thead>\n",
       "  <tbody>\n",
       "    <tr>\n",
       "      <th>0</th>\n",
       "      <td>alfa-romero</td>\n",
       "      <td>convertible</td>\n",
       "      <td>dohc</td>\n",
       "      <td>four</td>\n",
       "    </tr>\n",
       "    <tr>\n",
       "      <th>1</th>\n",
       "      <td>audi</td>\n",
       "      <td>hatchback</td>\n",
       "      <td>ohcv</td>\n",
       "      <td>six</td>\n",
       "    </tr>\n",
       "    <tr>\n",
       "      <th>2</th>\n",
       "      <td>bmw</td>\n",
       "      <td>sedan</td>\n",
       "      <td>ohc</td>\n",
       "      <td>five</td>\n",
       "    </tr>\n",
       "    <tr>\n",
       "      <th>3</th>\n",
       "      <td>chevrolet</td>\n",
       "      <td>wagon</td>\n",
       "      <td>l</td>\n",
       "      <td>three</td>\n",
       "    </tr>\n",
       "    <tr>\n",
       "      <th>4</th>\n",
       "      <td>dodge</td>\n",
       "      <td>hardtop</td>\n",
       "      <td>rotor</td>\n",
       "      <td>twelve</td>\n",
       "    </tr>\n",
       "    <tr>\n",
       "      <th>5</th>\n",
       "      <td>honda</td>\n",
       "      <td>None</td>\n",
       "      <td>ohcf</td>\n",
       "      <td>two</td>\n",
       "    </tr>\n",
       "    <tr>\n",
       "      <th>6</th>\n",
       "      <td>isuzu</td>\n",
       "      <td>None</td>\n",
       "      <td>dohcv</td>\n",
       "      <td>eight</td>\n",
       "    </tr>\n",
       "    <tr>\n",
       "      <th>7</th>\n",
       "      <td>jaguar</td>\n",
       "      <td>None</td>\n",
       "      <td>None</td>\n",
       "      <td>None</td>\n",
       "    </tr>\n",
       "    <tr>\n",
       "      <th>8</th>\n",
       "      <td>mazda</td>\n",
       "      <td>None</td>\n",
       "      <td>None</td>\n",
       "      <td>None</td>\n",
       "    </tr>\n",
       "    <tr>\n",
       "      <th>9</th>\n",
       "      <td>mercedes-benz</td>\n",
       "      <td>None</td>\n",
       "      <td>None</td>\n",
       "      <td>None</td>\n",
       "    </tr>\n",
       "    <tr>\n",
       "      <th>10</th>\n",
       "      <td>mitsubishi</td>\n",
       "      <td>None</td>\n",
       "      <td>None</td>\n",
       "      <td>None</td>\n",
       "    </tr>\n",
       "    <tr>\n",
       "      <th>11</th>\n",
       "      <td>nissan</td>\n",
       "      <td>None</td>\n",
       "      <td>None</td>\n",
       "      <td>None</td>\n",
       "    </tr>\n",
       "    <tr>\n",
       "      <th>12</th>\n",
       "      <td>porsche</td>\n",
       "      <td>None</td>\n",
       "      <td>None</td>\n",
       "      <td>None</td>\n",
       "    </tr>\n",
       "    <tr>\n",
       "      <th>13</th>\n",
       "      <td>toyota</td>\n",
       "      <td>None</td>\n",
       "      <td>None</td>\n",
       "      <td>None</td>\n",
       "    </tr>\n",
       "    <tr>\n",
       "      <th>14</th>\n",
       "      <td>volkswagen</td>\n",
       "      <td>None</td>\n",
       "      <td>None</td>\n",
       "      <td>None</td>\n",
       "    </tr>\n",
       "    <tr>\n",
       "      <th>15</th>\n",
       "      <td>volvo</td>\n",
       "      <td>None</td>\n",
       "      <td>None</td>\n",
       "      <td>None</td>\n",
       "    </tr>\n",
       "  </tbody>\n",
       "</table>\n",
       "</div>"
      ],
      "text/plain": [
       "          company   body-style engine-type num-of-cylinders\n",
       "0     alfa-romero  convertible        dohc             four\n",
       "1            audi    hatchback        ohcv              six\n",
       "2             bmw        sedan         ohc             five\n",
       "3       chevrolet        wagon           l            three\n",
       "4           dodge      hardtop       rotor           twelve\n",
       "5           honda         None        ohcf              two\n",
       "6           isuzu         None       dohcv            eight\n",
       "7          jaguar         None        None             None\n",
       "8           mazda         None        None             None\n",
       "9   mercedes-benz         None        None             None\n",
       "10     mitsubishi         None        None             None\n",
       "11         nissan         None        None             None\n",
       "12        porsche         None        None             None\n",
       "13         toyota         None        None             None\n",
       "14     volkswagen         None        None             None\n",
       "15          volvo         None        None             None"
      ]
     },
     "execution_count": 77,
     "metadata": {},
     "output_type": "execute_result"
    }
   ],
   "source": [
    "numerics = ['int16', 'int32', 'int64', 'float16', 'float32', 'float64']\n",
    "\n",
    "categorical_data = automobile_data.select_dtypes(exclude=numerics)\n",
    "d = {}\n",
    "for col in categorical_data.columns:\n",
    "    d[col] = categorical_data[col].unique()\n",
    "df = pd.DataFrame.from_dict(d, orient='index')\n",
    "df.transpose()"
   ]
  },
  {
   "cell_type": "markdown",
   "id": "ff5e0ae0-0e41-4f95-b83e-0555236ea86a",
   "metadata": {},
   "source": [
    "Since there are no values filled in as '?' or 'n.a' in all the categorical attributes, we don't need to replace anything. As 'price' is a numerical attribute, instead of filling the missing values with 'NaN', we could fill them with the mean of the column so as to preserve the data type of the column which is currently 'float64'."
   ]
  },
  {
   "cell_type": "code",
   "execution_count": 78,
   "id": "7df3140f-46e5-4b27-bd32-2693b52cb15e",
   "metadata": {
    "tags": []
   },
   "outputs": [],
   "source": [
    "mean_val = round(automobile_data['price'].mean(), 2)\n",
    "automobile_data['price'].fillna(mean_val, inplace=True)"
   ]
  },
  {
   "cell_type": "code",
   "execution_count": 79,
   "id": "8b7e4d28-925b-4156-a91b-2130472d5efd",
   "metadata": {
    "tags": []
   },
   "outputs": [
    {
     "name": "stdout",
     "output_type": "stream",
     "text": [
      "<class 'pandas.core.frame.DataFrame'>\n",
      "Int64Index: 61 entries, 0 to 88\n",
      "Data columns (total 9 columns):\n",
      " #   Column            Non-Null Count  Dtype  \n",
      "---  ------            --------------  -----  \n",
      " 0   company           61 non-null     object \n",
      " 1   body-style        61 non-null     object \n",
      " 2   wheel-base        61 non-null     float64\n",
      " 3   length            61 non-null     float64\n",
      " 4   engine-type       61 non-null     object \n",
      " 5   num-of-cylinders  61 non-null     object \n",
      " 6   horsepower        61 non-null     int64  \n",
      " 7   average-mileage   61 non-null     int64  \n",
      " 8   price             61 non-null     float64\n",
      "dtypes: float64(3), int64(2), object(4)\n",
      "memory usage: 4.8+ KB\n"
     ]
    }
   ],
   "source": [
    "automobile_data.info()"
   ]
  },
  {
   "cell_type": "code",
   "execution_count": 80,
   "id": "e2148497-3e1f-44c0-b2e7-b53aab909ef8",
   "metadata": {
    "tags": []
   },
   "outputs": [
    {
     "data": {
      "text/plain": [
       "15387.0"
      ]
     },
     "execution_count": 80,
     "metadata": {},
     "output_type": "execute_result"
    }
   ],
   "source": [
    "automobile_data['price'][31]"
   ]
  },
  {
   "cell_type": "code",
   "execution_count": 81,
   "id": "ff1a31dd-0bc4-4e19-8bde-2228de39fa29",
   "metadata": {
    "tags": []
   },
   "outputs": [],
   "source": [
    "automobile_data.to_csv('Automobile_data_cleaned.csv')"
   ]
  },
  {
   "cell_type": "markdown",
   "id": "5756fbb5-7749-46af-84b8-47c0ddd03eeb",
   "metadata": {},
   "source": [
    "### Most Expensive Car"
   ]
  },
  {
   "cell_type": "code",
   "execution_count": 97,
   "id": "946bc576-0379-4ef1-bfee-585fc90c4d72",
   "metadata": {
    "tags": []
   },
   "outputs": [],
   "source": [
    "most_expensive = automobile_data[automobile_data['price'] == automobile_data['price'].max()].values"
   ]
  },
  {
   "cell_type": "code",
   "execution_count": 98,
   "id": "8461b446-b20f-4ea9-81f1-e6ab065af12f",
   "metadata": {
    "tags": []
   },
   "outputs": [
    {
     "name": "stdout",
     "output_type": "stream",
     "text": [
      "The most expensive car is a mercedes-benz - hardtop coming in at 45400.0\n"
     ]
    }
   ],
   "source": [
    "print(f\"The most expensive car is a {most_expensive[0][0]} - {most_expensive[0][1]} coming in at {most_expensive[0][8]}\")"
   ]
  },
  {
   "cell_type": "markdown",
   "id": "dafa68a0-0af9-4980-9c65-5bb8894d28e6",
   "metadata": {},
   "source": [
    "### Least Expensive Car"
   ]
  },
  {
   "cell_type": "code",
   "execution_count": 99,
   "id": "91f7d337-540e-438e-8ad4-500c9bdcd7d1",
   "metadata": {
    "tags": []
   },
   "outputs": [],
   "source": [
    "least_expensive = automobile_data[automobile_data['price'] == automobile_data['price'].min()].values"
   ]
  },
  {
   "cell_type": "code",
   "execution_count": 101,
   "id": "ff588ab0-9552-42fb-a861-f6324c2beae8",
   "metadata": {
    "tags": []
   },
   "outputs": [
    {
     "name": "stdout",
     "output_type": "stream",
     "text": [
      "The least expensive car is a chevrolet - hatchback coming in at 5151.0\n"
     ]
    }
   ],
   "source": [
    "print(f\"The least expensive car is a {least_expensive[0][0]} - {least_expensive[0][1]} coming in at {least_expensive[0][8]}\")"
   ]
  },
  {
   "cell_type": "markdown",
   "id": "8abe08f3-d345-43d2-9caf-95fb497a0ddb",
   "metadata": {},
   "source": [
    "### Details of Volvo Cars"
   ]
  },
  {
   "cell_type": "code",
   "execution_count": 102,
   "id": "7f9026c1-00c6-41c5-bea8-1d3651ce9d7e",
   "metadata": {
    "tags": []
   },
   "outputs": [
    {
     "data": {
      "text/html": [
       "<div>\n",
       "<style scoped>\n",
       "    .dataframe tbody tr th:only-of-type {\n",
       "        vertical-align: middle;\n",
       "    }\n",
       "\n",
       "    .dataframe tbody tr th {\n",
       "        vertical-align: top;\n",
       "    }\n",
       "\n",
       "    .dataframe thead th {\n",
       "        text-align: right;\n",
       "    }\n",
       "</style>\n",
       "<table border=\"1\" class=\"dataframe\">\n",
       "  <thead>\n",
       "    <tr style=\"text-align: right;\">\n",
       "      <th></th>\n",
       "      <th>company</th>\n",
       "      <th>body-style</th>\n",
       "      <th>wheel-base</th>\n",
       "      <th>length</th>\n",
       "      <th>engine-type</th>\n",
       "      <th>num-of-cylinders</th>\n",
       "      <th>horsepower</th>\n",
       "      <th>average-mileage</th>\n",
       "      <th>price</th>\n",
       "    </tr>\n",
       "    <tr>\n",
       "      <th>index</th>\n",
       "      <th></th>\n",
       "      <th></th>\n",
       "      <th></th>\n",
       "      <th></th>\n",
       "      <th></th>\n",
       "      <th></th>\n",
       "      <th></th>\n",
       "      <th></th>\n",
       "      <th></th>\n",
       "    </tr>\n",
       "  </thead>\n",
       "  <tbody>\n",
       "    <tr>\n",
       "      <th>87</th>\n",
       "      <td>volvo</td>\n",
       "      <td>sedan</td>\n",
       "      <td>104.3</td>\n",
       "      <td>188.8</td>\n",
       "      <td>ohc</td>\n",
       "      <td>four</td>\n",
       "      <td>114</td>\n",
       "      <td>23</td>\n",
       "      <td>12940.0</td>\n",
       "    </tr>\n",
       "    <tr>\n",
       "      <th>88</th>\n",
       "      <td>volvo</td>\n",
       "      <td>wagon</td>\n",
       "      <td>104.3</td>\n",
       "      <td>188.8</td>\n",
       "      <td>ohc</td>\n",
       "      <td>four</td>\n",
       "      <td>114</td>\n",
       "      <td>23</td>\n",
       "      <td>13415.0</td>\n",
       "    </tr>\n",
       "  </tbody>\n",
       "</table>\n",
       "</div>"
      ],
      "text/plain": [
       "      company body-style  wheel-base  length engine-type num-of-cylinders  \\\n",
       "index                                                                       \n",
       "87      volvo      sedan       104.3   188.8         ohc             four   \n",
       "88      volvo      wagon       104.3   188.8         ohc             four   \n",
       "\n",
       "       horsepower  average-mileage    price  \n",
       "index                                        \n",
       "87            114               23  12940.0  \n",
       "88            114               23  13415.0  "
      ]
     },
     "execution_count": 102,
     "metadata": {},
     "output_type": "execute_result"
    }
   ],
   "source": [
    "automobile_data.loc[automobile_data['company'] == 'volvo']"
   ]
  },
  {
   "cell_type": "markdown",
   "id": "209f3347-bed9-41e1-8e1d-c865f7d36ec1",
   "metadata": {},
   "source": [
    "### Count total cars per company"
   ]
  },
  {
   "cell_type": "code",
   "execution_count": 106,
   "id": "d068b43f-7b37-4c29-aede-38d372f1b7dc",
   "metadata": {
    "tags": []
   },
   "outputs": [
    {
     "name": "stdout",
     "output_type": "stream",
     "text": [
      "alfa-romero : 3\n",
      "audi : 4\n",
      "bmw : 6\n",
      "chevrolet : 3\n",
      "dodge : 2\n",
      "honda : 3\n",
      "isuzu : 3\n",
      "jaguar : 3\n",
      "mazda : 5\n",
      "mercedes-benz : 4\n",
      "mitsubishi : 4\n",
      "nissan : 5\n",
      "porsche : 3\n",
      "toyota : 7\n",
      "volkswagen : 4\n",
      "volvo : 2\n"
     ]
    }
   ],
   "source": [
    "for c in automobile_data['company'].unique():\n",
    "    print(f\"{c} : {automobile_data['company'].value_counts()[c]}\")"
   ]
  },
  {
   "cell_type": "markdown",
   "id": "9cb5bee5-db7a-4fca-ae13-5267e211fcc3",
   "metadata": {},
   "source": [
    "### Highest Priced car of each company"
   ]
  },
  {
   "cell_type": "code",
   "execution_count": 114,
   "id": "866697e9-e481-42e0-8a1b-244da161f67e",
   "metadata": {
    "tags": []
   },
   "outputs": [
    {
     "name": "stdout",
     "output_type": "stream",
     "text": [
      "alfa-romero : 16500.0\n",
      "audi : 18920.0\n",
      "bmw : 41315.0\n",
      "chevrolet : 6575.0\n",
      "dodge : 6377.0\n",
      "honda : 12945.0\n",
      "isuzu : 15387.0\n",
      "jaguar : 36000.0\n",
      "mazda : 18344.0\n",
      "mercedes-benz : 45400.0\n",
      "mitsubishi : 8189.0\n",
      "nissan : 13499.0\n",
      "porsche : 37028.0\n",
      "toyota : 15750.0\n",
      "volkswagen : 9995.0\n",
      "volvo : 13415.0\n"
     ]
    }
   ],
   "source": [
    "for c in automobile_data['company'].unique():\n",
    "    rows = automobile_data.loc[automobile_data['company'] == c]\n",
    "    print(f\"{c} : {rows['price'].max()}\")"
   ]
  },
  {
   "cell_type": "markdown",
   "id": "512d841e-88a8-405a-8463-60ba36092866",
   "metadata": {},
   "source": [
    "### Avg. Mileage of each car making company"
   ]
  },
  {
   "cell_type": "code",
   "execution_count": 116,
   "id": "f69e660d-a6d7-45b6-85a9-47d57ba221c2",
   "metadata": {
    "tags": []
   },
   "outputs": [
    {
     "name": "stdout",
     "output_type": "stream",
     "text": [
      "alfa-romero : 20.33\n",
      "audi : 20.0\n",
      "bmw : 19.0\n",
      "chevrolet : 41.0\n",
      "dodge : 31.0\n",
      "honda : 26.33\n",
      "isuzu : 33.33\n",
      "jaguar : 14.33\n",
      "mazda : 28.0\n",
      "mercedes-benz : 18.0\n",
      "mitsubishi : 29.5\n",
      "nissan : 31.4\n",
      "porsche : 17.0\n",
      "toyota : 28.71\n",
      "volkswagen : 31.75\n",
      "volvo : 23.0\n"
     ]
    }
   ],
   "source": [
    "for c in automobile_data['company'].unique():\n",
    "    rows = automobile_data.loc[automobile_data['company'] == c]\n",
    "    print(f\"{c} : {round(rows['average-mileage'].mean(), 2)}\")"
   ]
  },
  {
   "cell_type": "markdown",
   "id": "b2dc3c46-c769-4b80-af6e-b6e6a83e7ce2",
   "metadata": {},
   "source": [
    "### Sort all cars by price"
   ]
  },
  {
   "cell_type": "code",
   "execution_count": 118,
   "id": "9b294fc9-1466-4878-843c-8efdb5fce0de",
   "metadata": {
    "tags": []
   },
   "outputs": [
    {
     "data": {
      "text/html": [
       "<div>\n",
       "<style scoped>\n",
       "    .dataframe tbody tr th:only-of-type {\n",
       "        vertical-align: middle;\n",
       "    }\n",
       "\n",
       "    .dataframe tbody tr th {\n",
       "        vertical-align: top;\n",
       "    }\n",
       "\n",
       "    .dataframe thead th {\n",
       "        text-align: right;\n",
       "    }\n",
       "</style>\n",
       "<table border=\"1\" class=\"dataframe\">\n",
       "  <thead>\n",
       "    <tr style=\"text-align: right;\">\n",
       "      <th></th>\n",
       "      <th>company</th>\n",
       "      <th>body-style</th>\n",
       "      <th>wheel-base</th>\n",
       "      <th>length</th>\n",
       "      <th>engine-type</th>\n",
       "      <th>num-of-cylinders</th>\n",
       "      <th>horsepower</th>\n",
       "      <th>average-mileage</th>\n",
       "      <th>price</th>\n",
       "    </tr>\n",
       "    <tr>\n",
       "      <th>index</th>\n",
       "      <th></th>\n",
       "      <th></th>\n",
       "      <th></th>\n",
       "      <th></th>\n",
       "      <th></th>\n",
       "      <th></th>\n",
       "      <th></th>\n",
       "      <th></th>\n",
       "      <th></th>\n",
       "    </tr>\n",
       "  </thead>\n",
       "  <tbody>\n",
       "    <tr>\n",
       "      <th>16</th>\n",
       "      <td>chevrolet</td>\n",
       "      <td>hatchback</td>\n",
       "      <td>88.4</td>\n",
       "      <td>141.1</td>\n",
       "      <td>l</td>\n",
       "      <td>three</td>\n",
       "      <td>48</td>\n",
       "      <td>47</td>\n",
       "      <td>5151.0</td>\n",
       "    </tr>\n",
       "    <tr>\n",
       "      <th>36</th>\n",
       "      <td>mazda</td>\n",
       "      <td>hatchback</td>\n",
       "      <td>93.1</td>\n",
       "      <td>159.1</td>\n",
       "      <td>ohc</td>\n",
       "      <td>four</td>\n",
       "      <td>68</td>\n",
       "      <td>30</td>\n",
       "      <td>5195.0</td>\n",
       "    </tr>\n",
       "    <tr>\n",
       "      <th>66</th>\n",
       "      <td>toyota</td>\n",
       "      <td>hatchback</td>\n",
       "      <td>95.7</td>\n",
       "      <td>158.7</td>\n",
       "      <td>ohc</td>\n",
       "      <td>four</td>\n",
       "      <td>62</td>\n",
       "      <td>35</td>\n",
       "      <td>5348.0</td>\n",
       "    </tr>\n",
       "    <tr>\n",
       "      <th>49</th>\n",
       "      <td>mitsubishi</td>\n",
       "      <td>hatchback</td>\n",
       "      <td>93.7</td>\n",
       "      <td>157.3</td>\n",
       "      <td>ohc</td>\n",
       "      <td>four</td>\n",
       "      <td>68</td>\n",
       "      <td>37</td>\n",
       "      <td>5389.0</td>\n",
       "    </tr>\n",
       "    <tr>\n",
       "      <th>37</th>\n",
       "      <td>mazda</td>\n",
       "      <td>hatchback</td>\n",
       "      <td>93.1</td>\n",
       "      <td>159.1</td>\n",
       "      <td>ohc</td>\n",
       "      <td>four</td>\n",
       "      <td>68</td>\n",
       "      <td>31</td>\n",
       "      <td>6095.0</td>\n",
       "    </tr>\n",
       "    <tr>\n",
       "      <th>...</th>\n",
       "      <td>...</td>\n",
       "      <td>...</td>\n",
       "      <td>...</td>\n",
       "      <td>...</td>\n",
       "      <td>...</td>\n",
       "      <td>...</td>\n",
       "      <td>...</td>\n",
       "      <td>...</td>\n",
       "      <td>...</td>\n",
       "    </tr>\n",
       "    <tr>\n",
       "      <th>15</th>\n",
       "      <td>bmw</td>\n",
       "      <td>sedan</td>\n",
       "      <td>110.0</td>\n",
       "      <td>197.0</td>\n",
       "      <td>ohc</td>\n",
       "      <td>six</td>\n",
       "      <td>182</td>\n",
       "      <td>15</td>\n",
       "      <td>36880.0</td>\n",
       "    </tr>\n",
       "    <tr>\n",
       "      <th>62</th>\n",
       "      <td>porsche</td>\n",
       "      <td>convertible</td>\n",
       "      <td>89.5</td>\n",
       "      <td>168.9</td>\n",
       "      <td>ohcf</td>\n",
       "      <td>six</td>\n",
       "      <td>207</td>\n",
       "      <td>17</td>\n",
       "      <td>37028.0</td>\n",
       "    </tr>\n",
       "    <tr>\n",
       "      <th>46</th>\n",
       "      <td>mercedes-benz</td>\n",
       "      <td>sedan</td>\n",
       "      <td>120.9</td>\n",
       "      <td>208.1</td>\n",
       "      <td>ohcv</td>\n",
       "      <td>eight</td>\n",
       "      <td>184</td>\n",
       "      <td>14</td>\n",
       "      <td>40960.0</td>\n",
       "    </tr>\n",
       "    <tr>\n",
       "      <th>14</th>\n",
       "      <td>bmw</td>\n",
       "      <td>sedan</td>\n",
       "      <td>103.5</td>\n",
       "      <td>193.8</td>\n",
       "      <td>ohc</td>\n",
       "      <td>six</td>\n",
       "      <td>182</td>\n",
       "      <td>16</td>\n",
       "      <td>41315.0</td>\n",
       "    </tr>\n",
       "    <tr>\n",
       "      <th>47</th>\n",
       "      <td>mercedes-benz</td>\n",
       "      <td>hardtop</td>\n",
       "      <td>112.0</td>\n",
       "      <td>199.2</td>\n",
       "      <td>ohcv</td>\n",
       "      <td>eight</td>\n",
       "      <td>184</td>\n",
       "      <td>14</td>\n",
       "      <td>45400.0</td>\n",
       "    </tr>\n",
       "  </tbody>\n",
       "</table>\n",
       "<p>61 rows × 9 columns</p>\n",
       "</div>"
      ],
      "text/plain": [
       "             company   body-style  wheel-base  length engine-type  \\\n",
       "index                                                               \n",
       "16         chevrolet    hatchback        88.4   141.1           l   \n",
       "36             mazda    hatchback        93.1   159.1         ohc   \n",
       "66            toyota    hatchback        95.7   158.7         ohc   \n",
       "49        mitsubishi    hatchback        93.7   157.3         ohc   \n",
       "37             mazda    hatchback        93.1   159.1         ohc   \n",
       "...              ...          ...         ...     ...         ...   \n",
       "15               bmw        sedan       110.0   197.0         ohc   \n",
       "62           porsche  convertible        89.5   168.9        ohcf   \n",
       "46     mercedes-benz        sedan       120.9   208.1        ohcv   \n",
       "14               bmw        sedan       103.5   193.8         ohc   \n",
       "47     mercedes-benz      hardtop       112.0   199.2        ohcv   \n",
       "\n",
       "      num-of-cylinders  horsepower  average-mileage    price  \n",
       "index                                                         \n",
       "16               three          48               47   5151.0  \n",
       "36                four          68               30   5195.0  \n",
       "66                four          62               35   5348.0  \n",
       "49                four          68               37   5389.0  \n",
       "37                four          68               31   6095.0  \n",
       "...                ...         ...              ...      ...  \n",
       "15                 six         182               15  36880.0  \n",
       "62                 six         207               17  37028.0  \n",
       "46               eight         184               14  40960.0  \n",
       "14                 six         182               16  41315.0  \n",
       "47               eight         184               14  45400.0  \n",
       "\n",
       "[61 rows x 9 columns]"
      ]
     },
     "execution_count": 118,
     "metadata": {},
     "output_type": "execute_result"
    }
   ],
   "source": [
    "automobile_data.sort_values(by=['price'])"
   ]
  }
 ],
 "metadata": {
  "kernelspec": {
   "display_name": "Python 3 (ipykernel)",
   "language": "python",
   "name": "python3"
  },
  "language_info": {
   "codemirror_mode": {
    "name": "ipython",
    "version": 3
   },
   "file_extension": ".py",
   "mimetype": "text/x-python",
   "name": "python",
   "nbconvert_exporter": "python",
   "pygments_lexer": "ipython3",
   "version": "3.8.10"
  }
 },
 "nbformat": 4,
 "nbformat_minor": 5
}
