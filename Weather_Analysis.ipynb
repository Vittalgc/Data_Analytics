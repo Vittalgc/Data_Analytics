{
 "cells": [
  {
   "cell_type": "code",
   "execution_count": 148,
   "id": "1bc534ba-d330-49f2-b5ed-1ab6f4e9d5df",
   "metadata": {
    "tags": []
   },
   "outputs": [],
   "source": [
    "import pandas as pd"
   ]
  },
  {
   "cell_type": "code",
   "execution_count": 149,
   "id": "1298a707-dabc-4265-8536-3b5aa1c636d4",
   "metadata": {
    "tags": []
   },
   "outputs": [],
   "source": [
    "summer_start = \"20100601 00:00\"\n",
    "summer_end = \"20100901 00:00\"\n",
    "\n",
    "dec_start = \"20101201 00:00\"\n",
    "dec_end = \"20101231 23:00\"\n",
    "\n",
    "jan_start = \"20100101 00:00\"\n",
    "feb_end = \"20100228 23:00\"\n",
    "\n",
    "spring_start = \"20100301 00:00\"\n",
    "spring_end = \"20100531 23:00\"\n",
    "\n",
    "autumn_start = \"20100801 00:00\"\n",
    "autumn_end = \"20101130 23:00\""
   ]
  },
  {
   "cell_type": "code",
   "execution_count": 150,
   "id": "13e3f623-bb86-4865-8b69-102da7a7face",
   "metadata": {
    "tags": []
   },
   "outputs": [],
   "source": [
    "weather = pd.read_csv('weather_data_austin_2010.csv')"
   ]
  },
  {
   "cell_type": "code",
   "execution_count": 151,
   "id": "844d5a62-6901-4603-b75d-a20ed3804d90",
   "metadata": {
    "tags": []
   },
   "outputs": [
    {
     "name": "stdout",
     "output_type": "stream",
     "text": [
      "<class 'pandas.core.frame.DataFrame'>\n",
      "RangeIndex: 8759 entries, 0 to 8758\n",
      "Data columns (total 4 columns):\n",
      " #   Column       Non-Null Count  Dtype  \n",
      "---  ------       --------------  -----  \n",
      " 0   Temperature  8759 non-null   float64\n",
      " 1   DewPoint     8759 non-null   float64\n",
      " 2   Pressure     8759 non-null   float64\n",
      " 3   Date         8759 non-null   object \n",
      "dtypes: float64(3), object(1)\n",
      "memory usage: 273.8+ KB\n"
     ]
    }
   ],
   "source": [
    "weather.info()"
   ]
  },
  {
   "cell_type": "markdown",
   "id": "08603d53-f2bf-454c-b0aa-29bcecd11bdc",
   "metadata": {},
   "source": [
    "Fetching the Indices for where each season starts and ends: "
   ]
  },
  {
   "cell_type": "code",
   "execution_count": 109,
   "id": "d849e0cf-6e80-4031-80f7-3bcb86fc751f",
   "metadata": {
    "tags": []
   },
   "outputs": [],
   "source": [
    "srow_start = (weather[weather['Date']==summer_start].index.values)[0]\n",
    "srow_end = (weather[weather['Date']==summer_end].index.values)[0]"
   ]
  },
  {
   "cell_type": "code",
   "execution_count": 110,
   "id": "aa8d4062-18cb-4ac0-8faa-d4c84d2d3b8b",
   "metadata": {},
   "outputs": [],
   "source": [
    "decrow_start = (weather[weather['Date']==dec_start].index.values)[0]\n",
    "decrow_end = (weather[weather['Date']==dec_end].index.values)[0] + 2"
   ]
  },
  {
   "cell_type": "code",
   "execution_count": 111,
   "id": "4d72a7e9-3cef-466d-b857-de94a81dd487",
   "metadata": {
    "tags": []
   },
   "outputs": [],
   "source": [
    "jrow_start = (weather[weather['Date']==jan_start].index.values)[0]\n",
    "frow_end = (weather[weather['Date']==feb_end].index.values)[0] + 1"
   ]
  },
  {
   "cell_type": "code",
   "execution_count": 112,
   "id": "36e868eb-0c58-4c04-8449-eaa7c8e68630",
   "metadata": {
    "tags": []
   },
   "outputs": [],
   "source": [
    "sprow_start = (weather[weather['Date']==spring_start].index.values)[0]\n",
    "sprow_end = (weather[weather['Date']==spring_end].index.values)[0] + 1"
   ]
  },
  {
   "cell_type": "code",
   "execution_count": 113,
   "id": "df8f85f8-0004-40e8-8844-98043cfc9b8a",
   "metadata": {
    "tags": []
   },
   "outputs": [],
   "source": [
    "arow_start = (weather[weather['Date']==autumn_start].index.values)[0]\n",
    "arow_end = (weather[weather['Date']==autumn_end].index.values)[0] + 1"
   ]
  },
  {
   "cell_type": "code",
   "execution_count": 114,
   "id": "e5fb16fa-7a21-4f40-a418-f7ce6c53a6b8",
   "metadata": {
    "tags": []
   },
   "outputs": [],
   "source": [
    "summer = weather[srow_start : srow_end]"
   ]
  },
  {
   "cell_type": "code",
   "execution_count": 115,
   "id": "eadae815-b3c7-4f75-ba26-293e5bb42a0a",
   "metadata": {
    "tags": []
   },
   "outputs": [],
   "source": [
    "jan_feb = weather[jrow_start : frow_end]"
   ]
  },
  {
   "cell_type": "code",
   "execution_count": 116,
   "id": "cc7d8f1d-670f-4b54-b85e-aa49bbb4cc0d",
   "metadata": {
    "tags": []
   },
   "outputs": [],
   "source": [
    "december = weather[decrow_start : decrow_end]"
   ]
  },
  {
   "cell_type": "code",
   "execution_count": 117,
   "id": "806bcb5c-24f2-4ec4-9484-c12e686d6f4e",
   "metadata": {
    "tags": []
   },
   "outputs": [],
   "source": [
    "winter = pd.concat([december, jan_feb])"
   ]
  },
  {
   "cell_type": "code",
   "execution_count": 118,
   "id": "c3cc3c1e-7b79-489c-b3d8-bb16079b5e07",
   "metadata": {
    "tags": []
   },
   "outputs": [],
   "source": [
    "spring = weather[sprow_start : sprow_end]"
   ]
  },
  {
   "cell_type": "code",
   "execution_count": 119,
   "id": "608b64c8-3529-418e-81d3-da6a87deda2a",
   "metadata": {
    "tags": []
   },
   "outputs": [],
   "source": [
    "autumn = weather[arow_start : arow_end]"
   ]
  },
  {
   "cell_type": "code",
   "execution_count": 120,
   "id": "c4d9faef-5163-4c31-b7d8-34f71d457e6e",
   "metadata": {
    "tags": []
   },
   "outputs": [
    {
     "name": "stdout",
     "output_type": "stream",
     "text": [
      "Avg. Temperature in Summer: 82.81 Farenheit\n",
      "Avg. Temperature in Winter: 51.65 Farenheit\n"
     ]
    }
   ],
   "source": [
    "summer_avg = round(summer['Temperature'].mean(), 2)\n",
    "winter_avg = round(winter['Temperature'].mean(), 2)\n",
    "\n",
    "print(f\"Avg. Temperature in Summer: {summer_avg} Farenheit\")\n",
    "print(f\"Avg. Temperature in Winter: {winter_avg} Farenheit\")"
   ]
  },
  {
   "cell_type": "markdown",
   "id": "a7396797-470d-4347-a62c-6c35f6a04105",
   "metadata": {},
   "source": [
    "### Temperature difference between Spring through Summer and Autumn through Winter"
   ]
  },
  {
   "cell_type": "code",
   "execution_count": 121,
   "id": "5e189c58-e434-452e-9e67-e4059596d8b8",
   "metadata": {
    "tags": []
   },
   "outputs": [],
   "source": [
    "sum_spring_temp = round(pd.concat([summer['Temperature'], spring['Temperature']]).mean(), 2)\n",
    "aut_winter_temp = round(pd.concat([autumn['Temperature'], winter['Temperature']]).mean(), 2)"
   ]
  },
  {
   "cell_type": "code",
   "execution_count": 122,
   "id": "b1317613-413b-489c-99bc-c24a5bd69f8a",
   "metadata": {
    "tags": []
   },
   "outputs": [
    {
     "name": "stdout",
     "output_type": "stream",
     "text": [
      "Avg. Temperature in summer and spring is 75.52\n",
      "Avg. Temperature in autumn and winter is 63.95\n",
      "The difference is 11.57\n"
     ]
    }
   ],
   "source": [
    "print(f\"Avg. Temperature in summer and spring is {sum_spring_temp}\")\n",
    "print(f\"Avg. Temperature in autumn and winter is {aut_winter_temp}\")\n",
    "print(f\"The difference is {round(sum_spring_temp - aut_winter_temp, 2)}\")"
   ]
  },
  {
   "cell_type": "markdown",
   "id": "e9bcb9c0-305f-4f84-a986-85cbcbdc4525",
   "metadata": {},
   "source": [
    "### Correlation between Temperature and Dewpoint"
   ]
  },
  {
   "cell_type": "code",
   "execution_count": 123,
   "id": "ecd5a639-8166-47a3-bdc2-103f58d3297a",
   "metadata": {
    "tags": []
   },
   "outputs": [],
   "source": [
    "cor = weather['Temperature'].corr(weather['DewPoint'])"
   ]
  },
  {
   "cell_type": "code",
   "execution_count": 124,
   "id": "97f916a5-b191-4c40-9b5f-6227c4cf21b1",
   "metadata": {
    "tags": []
   },
   "outputs": [
    {
     "name": "stdout",
     "output_type": "stream",
     "text": [
      "Pearson's Correlation between temperature and dewpoint is 0.8727727759507186\n"
     ]
    }
   ],
   "source": [
    "print(f\"Pearson's Correlation between temperature and dewpoint is {cor}\")"
   ]
  },
  {
   "cell_type": "markdown",
   "id": "5e8ade33-f384-4396-b934-0434f316659a",
   "metadata": {},
   "source": [
    "Which is a really high value for correlation coefficient. Suggesting that the two columns are strongly corrrelated."
   ]
  },
  {
   "cell_type": "markdown",
   "id": "d593781a-a649-40f5-a57e-9b44fce1aeaf",
   "metadata": {},
   "source": [
    "### Down Sampling Data from Hours to Days"
   ]
  },
  {
   "cell_type": "code",
   "execution_count": 141,
   "id": "bc18f9e6-7d9a-477c-8817-7caf858280a0",
   "metadata": {
    "tags": []
   },
   "outputs": [],
   "source": [
    "days = []\n",
    "for day in range(1, len(weather['Date'].values)+1, 24):\n",
    "        days.append(weather['Date'][day][:8])"
   ]
  },
  {
   "cell_type": "code",
   "execution_count": 142,
   "id": "ae127354-91f1-46a5-a281-57f088e41495",
   "metadata": {
    "tags": []
   },
   "outputs": [],
   "source": [
    "data = pd.DataFrame(columns = ['Temperature', 'DewPoint', 'Pressure', 'Date'])"
   ]
  },
  {
   "cell_type": "code",
   "execution_count": 143,
   "id": "65d9e3fe-27cd-49a8-b2d3-d18ee2932d45",
   "metadata": {
    "tags": []
   },
   "outputs": [],
   "source": [
    "i = 0\n",
    "for day in days:\n",
    "    rows = weather.loc[weather['Date'].str.startswith(day)]\n",
    "    data.loc[i] = [round(rows['Temperature'].mean(), 1), round(rows['DewPoint'].mean(), 1), round(rows['Pressure'].mean(), 1), day]\n",
    "    i += 1"
   ]
  },
  {
   "cell_type": "code",
   "execution_count": 146,
   "id": "2be29761-bd5d-4027-9403-8aaca8275b85",
   "metadata": {
    "tags": []
   },
   "outputs": [
    {
     "data": {
      "text/html": [
       "<div>\n",
       "<style scoped>\n",
       "    .dataframe tbody tr th:only-of-type {\n",
       "        vertical-align: middle;\n",
       "    }\n",
       "\n",
       "    .dataframe tbody tr th {\n",
       "        vertical-align: top;\n",
       "    }\n",
       "\n",
       "    .dataframe thead th {\n",
       "        text-align: right;\n",
       "    }\n",
       "</style>\n",
       "<table border=\"1\" class=\"dataframe\">\n",
       "  <thead>\n",
       "    <tr style=\"text-align: right;\">\n",
       "      <th></th>\n",
       "      <th>Temperature</th>\n",
       "      <th>DewPoint</th>\n",
       "      <th>Pressure</th>\n",
       "    </tr>\n",
       "  </thead>\n",
       "  <tbody>\n",
       "    <tr>\n",
       "      <th>count</th>\n",
       "      <td>365.000000</td>\n",
       "      <td>365.000000</td>\n",
       "      <td>365.0</td>\n",
       "    </tr>\n",
       "    <tr>\n",
       "      <th>mean</th>\n",
       "      <td>68.076164</td>\n",
       "      <td>55.936712</td>\n",
       "      <td>1.0</td>\n",
       "    </tr>\n",
       "    <tr>\n",
       "      <th>std</th>\n",
       "      <td>12.226653</td>\n",
       "      <td>11.733933</td>\n",
       "      <td>0.0</td>\n",
       "    </tr>\n",
       "    <tr>\n",
       "      <th>min</th>\n",
       "      <td>48.800000</td>\n",
       "      <td>37.000000</td>\n",
       "      <td>1.0</td>\n",
       "    </tr>\n",
       "    <tr>\n",
       "      <th>25%</th>\n",
       "      <td>56.700000</td>\n",
       "      <td>44.300000</td>\n",
       "      <td>1.0</td>\n",
       "    </tr>\n",
       "    <tr>\n",
       "      <th>50%</th>\n",
       "      <td>69.000000</td>\n",
       "      <td>57.300000</td>\n",
       "      <td>1.0</td>\n",
       "    </tr>\n",
       "    <tr>\n",
       "      <th>75%</th>\n",
       "      <td>80.500000</td>\n",
       "      <td>68.500000</td>\n",
       "      <td>1.0</td>\n",
       "    </tr>\n",
       "    <tr>\n",
       "      <th>max</th>\n",
       "      <td>84.500000</td>\n",
       "      <td>70.500000</td>\n",
       "      <td>1.0</td>\n",
       "    </tr>\n",
       "  </tbody>\n",
       "</table>\n",
       "</div>"
      ],
      "text/plain": [
       "       Temperature    DewPoint  Pressure\n",
       "count   365.000000  365.000000     365.0\n",
       "mean     68.076164   55.936712       1.0\n",
       "std      12.226653   11.733933       0.0\n",
       "min      48.800000   37.000000       1.0\n",
       "25%      56.700000   44.300000       1.0\n",
       "50%      69.000000   57.300000       1.0\n",
       "75%      80.500000   68.500000       1.0\n",
       "max      84.500000   70.500000       1.0"
      ]
     },
     "execution_count": 146,
     "metadata": {},
     "output_type": "execute_result"
    }
   ],
   "source": [
    "data.describe()"
   ]
  },
  {
   "cell_type": "code",
   "execution_count": 152,
   "id": "77c3e88d-7a41-44fc-853b-2288a0f98e77",
   "metadata": {
    "tags": []
   },
   "outputs": [
    {
     "name": "stdout",
     "output_type": "stream",
     "text": [
      "<class 'pandas.core.frame.DataFrame'>\n",
      "Int64Index: 365 entries, 0 to 364\n",
      "Data columns (total 4 columns):\n",
      " #   Column       Non-Null Count  Dtype  \n",
      "---  ------       --------------  -----  \n",
      " 0   Temperature  365 non-null    float64\n",
      " 1   DewPoint     365 non-null    float64\n",
      " 2   Pressure     365 non-null    float64\n",
      " 3   Date         365 non-null    object \n",
      "dtypes: float64(3), object(1)\n",
      "memory usage: 14.3+ KB\n"
     ]
    }
   ],
   "source": [
    "data.info()"
   ]
  },
  {
   "cell_type": "code",
   "execution_count": 154,
   "id": "de0bb8a0-fdbd-4dde-8388-63d33a822d24",
   "metadata": {
    "tags": []
   },
   "outputs": [
    {
     "data": {
      "text/html": [
       "<div>\n",
       "<style scoped>\n",
       "    .dataframe tbody tr th:only-of-type {\n",
       "        vertical-align: middle;\n",
       "    }\n",
       "\n",
       "    .dataframe tbody tr th {\n",
       "        vertical-align: top;\n",
       "    }\n",
       "\n",
       "    .dataframe thead th {\n",
       "        text-align: right;\n",
       "    }\n",
       "</style>\n",
       "<table border=\"1\" class=\"dataframe\">\n",
       "  <thead>\n",
       "    <tr style=\"text-align: right;\">\n",
       "      <th></th>\n",
       "      <th>Temperature</th>\n",
       "      <th>DewPoint</th>\n",
       "      <th>Pressure</th>\n",
       "      <th>Date</th>\n",
       "    </tr>\n",
       "  </thead>\n",
       "  <tbody>\n",
       "    <tr>\n",
       "      <th>0</th>\n",
       "      <td>49.3</td>\n",
       "      <td>37.7</td>\n",
       "      <td>1.0</td>\n",
       "      <td>20100101</td>\n",
       "    </tr>\n",
       "    <tr>\n",
       "      <th>1</th>\n",
       "      <td>49.8</td>\n",
       "      <td>38.4</td>\n",
       "      <td>1.0</td>\n",
       "      <td>20100102</td>\n",
       "    </tr>\n",
       "    <tr>\n",
       "      <th>2</th>\n",
       "      <td>49.9</td>\n",
       "      <td>38.3</td>\n",
       "      <td>1.0</td>\n",
       "      <td>20100103</td>\n",
       "    </tr>\n",
       "    <tr>\n",
       "      <th>3</th>\n",
       "      <td>49.7</td>\n",
       "      <td>38.0</td>\n",
       "      <td>1.0</td>\n",
       "      <td>20100104</td>\n",
       "    </tr>\n",
       "    <tr>\n",
       "      <th>4</th>\n",
       "      <td>49.8</td>\n",
       "      <td>38.1</td>\n",
       "      <td>1.0</td>\n",
       "      <td>20100105</td>\n",
       "    </tr>\n",
       "  </tbody>\n",
       "</table>\n",
       "</div>"
      ],
      "text/plain": [
       "   Temperature  DewPoint  Pressure      Date\n",
       "0         49.3      37.7       1.0  20100101\n",
       "1         49.8      38.4       1.0  20100102\n",
       "2         49.9      38.3       1.0  20100103\n",
       "3         49.7      38.0       1.0  20100104\n",
       "4         49.8      38.1       1.0  20100105"
      ]
     },
     "execution_count": 154,
     "metadata": {},
     "output_type": "execute_result"
    }
   ],
   "source": [
    "data.head()"
   ]
  },
  {
   "cell_type": "code",
   "execution_count": 155,
   "id": "232a42cb-ece7-4f6c-89d4-1fe91cc0ec1c",
   "metadata": {
    "tags": []
   },
   "outputs": [],
   "source": [
    "data.to_csv('weather_data_austin_2010_DownSampled.csv')"
   ]
  }
 ],
 "metadata": {
  "kernelspec": {
   "display_name": "Python 3 (ipykernel)",
   "language": "python",
   "name": "python3"
  },
  "language_info": {
   "codemirror_mode": {
    "name": "ipython",
    "version": 3
   },
   "file_extension": ".py",
   "mimetype": "text/x-python",
   "name": "python",
   "nbconvert_exporter": "python",
   "pygments_lexer": "ipython3",
   "version": "3.8.10"
  }
 },
 "nbformat": 4,
 "nbformat_minor": 5
}
